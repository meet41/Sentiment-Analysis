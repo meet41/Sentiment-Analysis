{
 "cells": [
  {
   "cell_type": "code",
   "execution_count": null,
   "metadata": {
    "colab": {
     "base_uri": "https://localhost:8080/"
    },
    "executionInfo": {
     "elapsed": 6391,
     "status": "ok",
     "timestamp": 1745148061149,
     "user": {
      "displayName": "ET23BTIT816_Meet_Patel",
      "userId": "04834967276247389506"
     },
     "user_tz": -330
    },
    "id": "IqnBJ-dE7Zyn",
    "outputId": "943908fe-fcce-4ae9-fa43-c2a4aa52cf88"
   },
   "outputs": [
    {
     "name": "stderr",
     "output_type": "stream",
     "text": [
      "[nltk_data] Downloading package stopwords to /root/nltk_data...\n"
     ]
    },
    {
     "name": "stdout",
     "output_type": "stream",
     "text": [
      "Accuracy: 0.5\n",
      "Predicted Sentiment: Positive\n"
     ]
    },
    {
     "name": "stderr",
     "output_type": "stream",
     "text": [
      "[nltk_data]   Unzipping corpora/stopwords.zip.\n"
     ]
    }
   ],
   "source": [
    "import pandas as pd\n",
    "import nltk\n",
    "from nltk.corpus import stopwords\n",
    "from sklearn.feature_extraction.text import TfidfVectorizer\n",
    "from sklearn.model_selection import train_test_split\n",
    "from sklearn.linear_model import LogisticRegression\n",
    "from sklearn.metrics import accuracy_score\n",
    "\n",
    "nltk.download('stopwords')\n",
    "stop_words = set(stopwords.words('english'))\n",
    "\n",
    "data = {\n",
    "    'text': [\n",
    "        \"I love this product!\",\n",
    "        \"This is the worst experience ever.\",\n",
    "        \"Absolutely fantastic service!\",\n",
    "        \"I hate this item.\",\n",
    "        \"Not bad, but could be better.\",\n",
    "        \"I am very satisfied with the quality.\"\n",
    "    ],\n",
    "    'sentiment': [1, 0, 1, 0, 1, 1]  # For 1 = Positive, 0 = Negative\n",
    "}\n",
    "df = pd.DataFrame(data)\n",
    "\n",
    "def preprocess(text):\n",
    "    text = text.lower()\n",
    "    words = [word for word in text.split() if word not in stop_words]\n",
    "    return ' '.join(words)\n",
    "\n",
    "df['text'] = df['text'].apply(preprocess)\n",
    "x_train, x_test, y_train, y_test = train_test_split(df['text'], df['sentiment'], test_size=0.2, random_state=42)\n",
    "\n",
    "# Conversion text to numerical features using TF-IDF\n",
    "vectorizer = TfidfVectorizer()\n",
    "x_train = vectorizer.fit_transform(x_train)\n",
    "x_test = vectorizer.transform(x_test)\n",
    "\n",
    "# Train model\n",
    "model = LogisticRegression()\n",
    "model.fit(x_train, y_train)\n",
    "\n",
    "# Evaluate\n",
    "y_pred = model.predict(x_test)\n",
    "accuracy = accuracy_score(y_test, y_pred)\n",
    "print(f\"Accuracy: {accuracy}\")\n",
    "\n",
    "# Predict sentiment\n",
    "new_review = [\"The product is amazing and works perfectly!\"]\n",
    "new_review_vectorized = vectorizer.transform(new_review)\n",
    "prediction = model.predict(new_review_vectorized)\n",
    "print(f\"Predicted Sentiment: {'Positive' if prediction[0] == 1 else 'Negative'}\")"
   ]
  }
 ],
 "metadata": {
  "colab": {
   "authorship_tag": "ABX9TyP6BjDgZgVR8QLIcCuKwpUV",
   "provenance": []
  },
  "kernelspec": {
   "display_name": "Python 3",
   "name": "python3"
  },
  "language_info": {
   "name": "python"
  }
 },
 "nbformat": 4,
 "nbformat_minor": 0
}
